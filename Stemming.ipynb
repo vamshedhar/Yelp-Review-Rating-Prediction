{
 "cells": [
  {
   "cell_type": "code",
   "execution_count": 2,
   "metadata": {},
   "outputs": [],
   "source": [
    "import re\n",
    "from nltk.corpus import stopwords\n",
    "import sys\n",
    "import os\n",
    "import csv\n",
    "from importlib import reload\n",
    "\n",
    "reload(sys)\n",
    "\n",
    "from __future__ import print_function"
   ]
  },
  {
   "cell_type": "code",
   "execution_count": 3,
   "metadata": {},
   "outputs": [],
   "source": [
    "data_dir = \"/Users/vamshedhar/Desktop/Cloud/csv/charlotte\""
   ]
  },
  {
   "cell_type": "code",
   "execution_count": 4,
   "metadata": {},
   "outputs": [],
   "source": [
    "import nltk\n",
    "import re\n",
    "from nltk.corpus import stopwords\n",
    "\n",
    "\n",
    "def load_stopwords():\n",
    "    return set(stopwords.words(\"english\"))\n",
    "\n",
    "def get_clean_review(raw_review):\n",
    "    PorterStemmer = nltk.stem.PorterStemmer()\n",
    "    letters_only = re.sub(\"[^a-zA-Z]\", \" \", raw_review)\n",
    "    words = letters_only.lower().split()\n",
    "    stops = load_stopwords()\n",
    "    meaningful_words = [PorterStemmer.stem(w) for w in words if not w in stops]\n",
    "    return( \" \".join( meaningful_words ))"
   ]
  },
  {
   "cell_type": "code",
   "execution_count": null,
   "metadata": {},
   "outputs": [],
   "source": [
    "#creates new file after stemming\n",
    "column_names = [\"text\", \"stars\"]\n",
    "with open(os.path.join(data_dir, 'new_reviews.csv'), \"w\") as fout:\n",
    "    csv_file = csv.writer(fout)\n",
    "    csv_file.writerow(list(column_names))\n",
    "    with open(os.path.join(data_dir, 'reviews.csv')) as f:\n",
    "        reader = csv.reader(f)\n",
    "        for row in reader:\n",
    "            if len(row) == 3 and row[2] != \"stars\":\n",
    "                csv_file.writerow([get_clean_review(row[1]), row[2]])"
   ]
  }
 ],
 "metadata": {
  "kernelspec": {
   "display_name": "Python 3",
   "language": "python",
   "name": "python3"
  },
  "language_info": {
   "codemirror_mode": {
    "name": "ipython",
    "version": 3
   },
   "file_extension": ".py",
   "mimetype": "text/x-python",
   "name": "python",
   "nbconvert_exporter": "python",
   "pygments_lexer": "ipython3",
   "version": "3.5.4"
  }
 },
 "nbformat": 4,
 "nbformat_minor": 2
}
